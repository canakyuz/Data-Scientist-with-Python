{
 "cells": [
  {
   "attachments": {},
   "cell_type": "markdown",
   "metadata": {},
   "source": [
    "<h3 style=\"color:#2ffad4\">The Python Interface</h3>\n",
    "\n",
    "In the Python script on the right, you can type Python code to solve the exercises. If you hit Run Code or Submit Answer, your python script (script.py) is executed and the output is shown in the IPython Shell. Submit Answer checks whether your submission is correct and gives you feedback.\n",
    "\n",
    "You can hit Run Code and Submit Answer as often as you want. If you're stuck, you can click Get Hint, and ultimately Get Solution.\n",
    "\n",
    "You can also use the IPython Shell interactively by simply typing commands and hitting Enter. When you work in the shell directly, your code will not be checked for correctness so it is a great way to experiment.\n",
    "\n",
    "---\n",
    "\n",
    "**Instructions**\n",
    "- Experiment in the IPython Shell; type `5 / 8,` for example.\n",
    "- Add another line of code to the Python script on the top-right (not in the Shell): `print(7 + 10).`\n",
    "- Hit Submit Answer to execute the Python script and receive feedback."
   ]
  },
  {
   "cell_type": "code",
   "execution_count": 1,
   "metadata": {},
   "outputs": [
    {
     "name": "stdout",
     "output_type": "stream",
     "text": [
      "0.625\n",
      "17\n"
     ]
    }
   ],
   "source": [
    "# Example, do not modify!\n",
    "print(5 / 8)\n",
    "\n",
    "# Print the sum of 7 and 10\n",
    "print(7+10)"
   ]
  },
  {
   "attachments": {},
   "cell_type": "markdown",
   "metadata": {},
   "source": [
    "<h3 style=\"color:#2ffad4\">When to use Python?</h3>\n",
    "\n",
    "Python is a pretty versatile language. For which applications can you use Python?\n",
    "\n",
    "---\n",
    "\n",
    "_**Possible Answers**_\n",
    "\n",
    "- You want to do some quick calculations.\n",
    "- For your new business, you want to develop a database-driven website.\n",
    "- Your boss asks you to clean and analyze the results of the latest satisfaction survey.\n",
    "- _**All of the above.**_"
   ]
  },
  {
   "attachments": {},
   "cell_type": "markdown",
   "metadata": {},
   "source": [
    "<h3 style=\"color:#2ffad4\">Any comments?</h3>\n",
    "\n",
    "Something that Hugo didn't mention in his videos is that you can add **comments** to your Python scripts. Comments are important to make sure that you and others can understand what your code is about.\n",
    "\n",
    "To add comments to your Python script, you can use the `#` tag. These comments are not run as Python code, so they will not influence your result. As an example, take the comment in the editor, `#Division`; it is completely ignored during execution.\n",
    "\n",
    "---\n",
    "\n",
    "**Instructions**\n",
    "Above the `print(7 + 10)`, add the comment\n",
    "\n",
    "```py\n",
    "# Addition\n",
    "```"
   ]
  },
  {
   "cell_type": "code",
   "execution_count": 3,
   "metadata": {},
   "outputs": [
    {
     "name": "stdout",
     "output_type": "stream",
     "text": [
      "0.625\n",
      "17\n"
     ]
    }
   ],
   "source": [
    "# Division\n",
    "print(5 / 8)\n",
    "\n",
    "# Addition\n",
    "print(7 + 10)"
   ]
  },
  {
   "attachments": {},
   "cell_type": "markdown",
   "metadata": {},
   "source": [
    "<h3 style=\"color:#2ffad4\">Python as a calculator</h3>\n",
    "\n",
    "Python is perfectly suited to do basic calculations. Apart from addition, subtraction, multiplication and division, there is also support for more advanced operations such as:\n",
    "\n",
    "- Exponentiation: `**`. This operator raises the number to its left to the power of the number to its right. For example `4**2` is `4` to the power of `2` and will give `16`.\n",
    "- Modulo: `%`. This operator returns the remainder of the division of the number to the left by the number on its right. For example `18 % 7` equals `4` because `7` fits into 18 twice, leaving you with a remainder of `4`.\n",
    "The code in the script gives some examples.\n",
    "\n",
    "Now it's your turn to practice!\n",
    "\n",
    "---\n",
    "\n",
    "**Instructions**\n",
    "- Change the values of the numbers shown to see how Python performs addition and subtraction.\n",
    "- Change the values of the numbers shown to see how multiplication, division, modulo, and exponentiation works in Python.\n",
    "- Calculate and print `2` to the power of `5`.\n",
    "\n"
   ]
  },
  {
   "cell_type": "code",
   "execution_count": 2,
   "metadata": {},
   "outputs": [
    {
     "name": "stdout",
     "output_type": "stream",
     "text": [
      "10\n",
      "0\n",
      "15\n",
      "5.0\n",
      "4\n",
      "16\n",
      "32\n"
     ]
    }
   ],
   "source": [
    "# Addition, subtraction\n",
    "print(5 + 5)\n",
    "print(5 - 5)\n",
    "\n",
    "# Multiplication, division, modulo, and exponentiation\n",
    "print(3 * 5)\n",
    "print(10 / 2)\n",
    "print(18 % 7)\n",
    "print(4 ** 2)\n",
    "\n",
    "# Calculate two to the power of five\n",
    "print(2**5)"
   ]
  },
  {
   "attachments": {},
   "cell_type": "markdown",
   "metadata": {},
   "source": [
    "<h3 style=\"color:#2ffad4\">Variable Assignment</h3>\n",
    "\n",
    "\n",
    "In Python, a variable allows you to refer to a value with a name. To create a variable use `=`, like this example:\n",
    "\n",
    "`x = 5`\n",
    "\n",
    "You can now use the name of this variable, `x`, instead of the actual value, `5`.\n",
    "\n",
    "Remember, `=` in Python means assignment, it doesn't test equality!\n",
    "\n",
    "**Instructions**\n",
    "- Create a variable `savings` with the value 100.\n",
    "- Check out this variable by typing `print(savings)` in the script."
   ]
  },
  {
   "cell_type": "code",
   "execution_count": 1,
   "metadata": {},
   "outputs": [
    {
     "name": "stdout",
     "output_type": "stream",
     "text": [
      "100\n"
     ]
    }
   ],
   "source": [
    "# Create a variable savings\n",
    "savings = 100\n",
    "\n",
    "# Print out savings\n",
    "print(savings)"
   ]
  },
  {
   "attachments": {},
   "cell_type": "markdown",
   "metadata": {},
   "source": [
    "<h3 style=\"color:#2ffad4\">Calculations with variables</h3>\n",
    "\n",
    "The formula to calculate how much money you have after 7 years of investing $100 each year with 10% return would look something like this:\n",
    "\n",
    "```100 * 1.1 ** 7```\n",
    "\n",
    "This is known as compound interest.\n",
    "\n",
    "Instead of calculating with the actual values, you can use variables instead. The `savings` variable you've created in the previous exercise represents the $100 you started with. It's up to you to create a new variable to represent `1.1` and then redo the calculations!\n",
    "\n",
    "Instructions\n",
    "Create a variable `growth_multiplier`, equal to `1.1`.\n",
    "Create a variable, `result`, equal to the amount of money you saved after `7` years.\n",
    "Print out the value of `result`."
   ]
  },
  {
   "cell_type": "code",
   "execution_count": 2,
   "metadata": {},
   "outputs": [
    {
     "name": "stdout",
     "output_type": "stream",
     "text": [
      "194.87171000000012\n"
     ]
    }
   ],
   "source": [
    "# Create a variable savings\n",
    "savings = 100\n",
    "\n",
    "# Create a variable growth_multiplier\n",
    "growth_multiplier = 1.1\n",
    "\n",
    "# Calculate result\n",
    "result = savings * growth_multiplier ** 7\n",
    "\n",
    "# Print out result\n",
    "print(result)"
   ]
  },
  {
   "attachments": {},
   "cell_type": "markdown",
   "metadata": {},
   "source": [
    "<h3 style=\"color:#2ffad4\">Other variable types</h3>\n",
    "\n",
    "In the previous exercise, you worked with two Python data types:\n",
    "\n",
    "`int`, or integer: a number without a fractional part. `savings`, with the value `100`, is an example of an integer.\n",
    "`float`, or floating point: a number that has both an integer and fractional part, separated by a point. `growth_multiplier`, with the value `1.1`, is an example of a float.\n",
    "Next to numerical data types, there are two other very common data types:\n",
    "\n",
    "`str`, or string: a type to represent text. You can use single or double quotes to build a string.\n",
    "`bool`, or boolean: a type to represent logical values. Can only be `True` or `False` (the capitalization is important!).\n",
    "\n",
    "**Instructions**\n",
    "- Create a new string, `desc`, with the value `\"compound interest\"`.\n",
    "- Create a new boolean, `profitable`, with the value `True`."
   ]
  },
  {
   "cell_type": "code",
   "execution_count": 3,
   "metadata": {},
   "outputs": [],
   "source": [
    "# Create a variable desc\n",
    "desc = \"compound interest\"\n",
    "\n",
    "# Create a variable profitable\n",
    "profitable = True"
   ]
  },
  {
   "attachments": {},
   "cell_type": "markdown",
   "metadata": {},
   "source": [
    "<h3 style=\"color:#2ffad4\">Guess the type</h3>\n",
    "\n",
    "To find out the type of a value or a variable that refers to that value, you can use the type() function. Suppose you've defined a variable a, but you forgot the type of this variable. To determine the type of a, simply execute:\n",
    "\n",
    "```py\n",
    "type(a)\n",
    "```\n",
    "\n",
    "\n",
    "We already went ahead and created three variables: a, b and c. You can use the IPython shell to discover their type. Which of the following options is correct?\n",
    "\n",
    "\n",
    "_**Instructions**_\n",
    "\n",
    "_Possible Answers_\n",
    "\n",
    "- a is of type `int`, `b` is of type `str`, `c` is of type `bool`\n",
    "- a is of type `float`, `b` is of type `bool`, `c` is of type `str`\n",
    "- _**a is of type `float`, `b` is of type `str`, `c` is of type `bool`**_\n",
    "- a is of type `int`, `b` is of type `bool`, `c` is of type `str`"
   ]
  },
  {
   "attachments": {},
   "cell_type": "markdown",
   "metadata": {},
   "source": [
    "<h3 style=\"color:#2ffad4\">Operations with other types</h3>\n",
    "\n",
    "Hugo mentioned that different types behave differently in Python.\n",
    "\n",
    "When you sum two strings, for example, you'll get different behavior than when you sum two integers or two booleans.\n",
    "\n",
    "In the script some variables with different types have already been created. It's up to you to use them.\n",
    "\n",
    "**Instructions**\n",
    "- Calculate the product of `savings` and `growth_multiplier`. Store the result in `year1`.\n",
    "- What do you think the resulting type will be? Find out by printing out the type of `year1`.\n",
    "- Calculate the sum of `desc` and `desc` and store the result in a new variable `doubledesc`.\n",
    "- Print out `doubledesc`. Did you expect this?"
   ]
  },
  {
   "cell_type": "code",
   "execution_count": 4,
   "metadata": {},
   "outputs": [
    {
     "name": "stdout",
     "output_type": "stream",
     "text": [
      "<class 'float'>\n",
      "compound interestcompound interest\n"
     ]
    }
   ],
   "source": [
    "savings = 100\n",
    "growth_multiplier = 1.1\n",
    "desc = \"compound interest\"\n",
    "\n",
    "# Assign product of savings and growth_multiplier to year1\n",
    "year1 = savings * growth_multiplier\n",
    "\n",
    "# Print the type of year1\n",
    "print(type(year1))\n",
    "\n",
    "# Assign sum of desc and desc to doubledesc\n",
    "doubledesc = desc + desc\n",
    "\n",
    "# Print out doubledesc\n",
    "print(doubledesc)"
   ]
  },
  {
   "attachments": {},
   "cell_type": "markdown",
   "metadata": {},
   "source": [
    "<h3 style=\"color:#2ffad4\">Type conversion</h3>\n",
    "\n",
    "Using the `+` operator to paste together two strings can be very useful in building custom messages.\n",
    "\n",
    "Suppose, for example, that you've calculated the return of your investment and want to summarize the results in a string.\n",
    "\n",
    "To do this, you'll need to explicitly convert the types of your variables so that they are all strings. More specifically, you'll need **`str()`**, to convert a value into a string. `str(savings)`, for example, will convert the integer `savings` to a string.\n",
    "\n",
    "Similar functions such as **`int()`**, **`float()`** and **`bool()`** will help you convert Python values into any type.\n",
    "\n",
    "**Instructions**\n",
    "- Hit Run Code to run the code. Try to understand the error message.\n",
    "- Fix the code such that the printout runs without errors; use the function **`str()`** to convert the variables to strings.\n",
    "- Convert the variable pi_string to a float and store this float as a new variable, pi_float."
   ]
  },
  {
   "cell_type": "code",
   "execution_count": 5,
   "metadata": {},
   "outputs": [
    {
     "name": "stdout",
     "output_type": "stream",
     "text": [
      "I started with $100 and now have $194.87171000000012. Awesome!\n"
     ]
    }
   ],
   "source": [
    "# Definition of savings and result\n",
    "savings = 100\n",
    "result = 100 * 1.10 ** 7\n",
    "\n",
    "# Fix the printout\n",
    "print(\"I started with $\" + str(savings) + \" and now have $\" + str(result) + \". Awesome!\")\n",
    "\n",
    "# Definition of pi_string\n",
    "pi_string = \"3.1415926\"\n",
    "\n",
    "# Convert pi_string into float: pi_float\n",
    "pi_float = float(pi_string)"
   ]
  },
  {
   "attachments": {},
   "cell_type": "markdown",
   "metadata": {},
   "source": [
    "<h3 style=\"color:#2ffad4\">Can Python handle everything?</h3>\n",
    "\n",
    "Now that you know something more about combining different sources of information, have a look at the four Python expressions below. Which one of these will throw an error? You can always copy and paste this code in the IPython Shell to find out!\n",
    "\n",
    "**Instructions**\n",
    "\n",
    "- \"I can add integers, like \" + str(5) + \" to strings.\"\n",
    "- \"I said \" + (\"Hey \" * 2) + \"Hey!\"\n",
    "- _**\"The correct answer to this multiple choice exercise is answer number \" + 2**_\n",
    "- True + False"
   ]
  }
 ],
 "metadata": {
  "kernelspec": {
   "display_name": "Python 3",
   "language": "python",
   "name": "python3"
  },
  "language_info": {
   "codemirror_mode": {
    "name": "ipython",
    "version": 3
   },
   "file_extension": ".py",
   "mimetype": "text/x-python",
   "name": "python",
   "nbconvert_exporter": "python",
   "pygments_lexer": "ipython3",
   "version": "3.11.1"
  },
  "orig_nbformat": 4
 },
 "nbformat": 4,
 "nbformat_minor": 2
}
