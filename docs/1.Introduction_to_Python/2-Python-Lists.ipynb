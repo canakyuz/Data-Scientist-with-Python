{
 "cells": [
  {
   "attachments": {},
   "cell_type": "markdown",
   "metadata": {},
   "source": [
    "<h3 style=\"color: #2ffad4\">Create a list</h3>\n",
    "\n",
    "As opposed to `int`, `bool` etc., a list is a **compound data type**; you can group values together:\n",
    "\n",
    "```py\n",
    "a = \"is\"\n",
    "b = \"nice\"\n",
    "my_list = [\"my\", \"list\", a, b]\n",
    "```\n",
    "After measuring the height of your family, you decide to collect some information on the house you're living in. The areas of the different parts of your house are stored in separate variables for now, as shown in the script.\n",
    "\n",
    "---\n",
    "\n",
    "**Instructions**\n",
    "- Create a list, `areas`, that contains the area of the hallway (`hall`), kitchen (`kit`), living room (`liv`), bedroom (`bed`) and bathroom (`bath`), in this order. Use the predefined variables.\n",
    "- Print `areas` with the `print()` function."
   ]
  },
  {
   "cell_type": "code",
   "execution_count": null,
   "metadata": {
    "vscode": {
     "languageId": "plaintext"
    }
   },
   "outputs": [],
   "source": []
  },
  {
   "attachments": {},
   "cell_type": "markdown",
   "metadata": {},
   "source": [
    "<h3 style=\"color: #2ffad4\">Create list with different types</h3>\n"
   ]
  },
  {
   "cell_type": "code",
   "execution_count": null,
   "metadata": {
    "vscode": {
     "languageId": "plaintext"
    }
   },
   "outputs": [],
   "source": []
  },
  {
   "attachments": {},
   "cell_type": "markdown",
   "metadata": {},
   "source": [
    "<h3 style=\"color: #2ffad4\">Select the valid list</h3>\n"
   ]
  },
  {
   "cell_type": "code",
   "execution_count": null,
   "metadata": {
    "vscode": {
     "languageId": "plaintext"
    }
   },
   "outputs": [],
   "source": []
  },
  {
   "attachments": {},
   "cell_type": "markdown",
   "metadata": {},
   "source": [
    "<h3 style=\"color: #2ffad4\">List of lists</h3>\n"
   ]
  },
  {
   "cell_type": "code",
   "execution_count": null,
   "metadata": {
    "vscode": {
     "languageId": "plaintext"
    }
   },
   "outputs": [],
   "source": []
  },
  {
   "attachments": {},
   "cell_type": "markdown",
   "metadata": {},
   "source": [
    "<h3 style=\"color: #2ffad4\">Subset and conquer</h3>\n"
   ]
  },
  {
   "cell_type": "code",
   "execution_count": null,
   "metadata": {
    "vscode": {
     "languageId": "plaintext"
    }
   },
   "outputs": [],
   "source": []
  },
  {
   "attachments": {},
   "cell_type": "markdown",
   "metadata": {},
   "source": [
    "<h3 style=\"color: #2ffad4\">Subset and calculate</h3>\n",
    "<h3 style=\"color: #2ffad4\">Slicing and dicing</h3>\n",
    "<h3 style=\"color: #2ffad4\">Slicing and dicing (2)</h3>\n",
    "<h3 style=\"color: #2ffad4\">Subsetting lists of lists</h3>\n",
    "<h3 style=\"color: #2ffad4\">Manipulating Lists</h3>\n",
    "<h3 style=\"color: #2ffad4\">Replace list elements</h3>\n",
    "<h3 style=\"color: #2ffad4\">Extend a list</h3>\n",
    "<h3 style=\"color: #2ffad4\">Delete list elements</h3>\n",
    "<h3 style=\"color: #2ffad4\">Inner workings of lists</h3>"
   ]
  }
 ],
 "metadata": {
  "language_info": {
   "name": "python"
  },
  "orig_nbformat": 4
 },
 "nbformat": 4,
 "nbformat_minor": 2
}
